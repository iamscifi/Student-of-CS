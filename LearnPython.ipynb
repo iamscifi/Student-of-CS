{
  "nbformat": 4,
  "nbformat_minor": 0,
  "metadata": {
    "colab": {
      "name": "LearnPython.ipynb",
      "provenance": [],
      "authorship_tag": "ABX9TyNC5sqnPZoALsHN0XmEzqWD",
      "include_colab_link": true
    },
    "kernelspec": {
      "name": "python3",
      "display_name": "Python 3"
    },
    "language_info": {
      "name": "python"
    }
  },
  "cells": [
    {
      "cell_type": "markdown",
      "metadata": {
        "id": "view-in-github",
        "colab_type": "text"
      },
      "source": [
        "<a href=\"https://colab.research.google.com/github/iamscifi/Student-of-CS/blob/main/LearnPython.ipynb\" target=\"_parent\"><img src=\"https://colab.research.google.com/assets/colab-badge.svg\" alt=\"Open In Colab\"/></a>"
      ]
    },
    {
      "cell_type": "markdown",
      "source": [
        "# Random Coding Tips"
      ],
      "metadata": {
        "id": "tqWLt93dBdzP"
      }
    },
    {
      "cell_type": "code",
      "source": [
        "# Constants go at the top of code so they're easy to find\n",
        "CONSTANT='Whatever'\n",
        "# or\n",
        "WHATEVER='Constant'\n",
        "# Python doesn't protect constants, but placing the variable in CAPS tells other\n",
        "# coders that it should remain constant\n",
        "\n",
        "# Classes can contain their own Constants\n",
        "class Cat():\n",
        "  MEOW=3\n",
        "  def meow(self):\n",
        "    for _ in range(Cat.MEOW):\n",
        "      print(\"Meow\")\n",
        "\n",
        "cat=Cat()\n",
        "cat.meow()"
      ],
      "metadata": {
        "colab": {
          "base_uri": "https://localhost:8080/"
        },
        "id": "VGPnnjnbBkxD",
        "outputId": "6a111c76-5315-4a66-b779-63884fe2adc0"
      },
      "execution_count": null,
      "outputs": [
        {
          "output_type": "stream",
          "name": "stdout",
          "text": [
            "Meow\n",
            "Meow\n",
            "Meow\n"
          ]
        }
      ]
    },
    {
      "cell_type": "markdown",
      "source": [
        "# Terminal Tips"
      ],
      "metadata": {
        "id": "M2uEWgo4gnth"
      }
    },
    {
      "cell_type": "markdown",
      "source": [
        "Control c ends an infinite loop"
      ],
      "metadata": {
        "id": "rzH_ZgRVgzo7"
      }
    },
    {
      "cell_type": "markdown",
      "source": [
        "# Succinct Function Styling"
      ],
      "metadata": {
        "id": "tssBHH06e0Jw"
      }
    },
    {
      "cell_type": "code",
      "execution_count": null,
      "metadata": {
        "id": "UVm8OOM0eG1a"
      },
      "outputs": [],
      "source": [
        "def is_even(n):\n",
        "    return n % 2 == 0"
      ]
    },
    {
      "cell_type": "markdown",
      "source": [
        "# Lists"
      ],
      "metadata": {
        "id": "qmQw9Ynlx7Yv"
      }
    },
    {
      "cell_type": "code",
      "source": [
        "students_list = ['Hermione', 'Harry', 'Ron']\n",
        "\n",
        "for i in range(len(students_list)):\n",
        "  print(i + 1, students_list[i])"
      ],
      "metadata": {
        "id": "lrk3uZIKx_m8"
      },
      "execution_count": null,
      "outputs": []
    },
    {
      "cell_type": "markdown",
      "source": [
        "# Dictionaries"
      ],
      "metadata": {
        "id": "vD1E755vzCHq"
      }
    },
    {
      "cell_type": "code",
      "source": [
        "students_dict = { # key: value\n",
        "    'Hermione': 'Gryffindor',\n",
        "    'Harry': 'Gryffindor',\n",
        "    'Ron': 'Gryffindor',\n",
        "    'Draco': 'Slytherin'\n",
        "}\n",
        "\n",
        "for s in students_dict: # 's' iterates over keys\n",
        "  # 's' prints key & 'students_dict[s]' prints value\n",
        "  print(s, students_dict[s], sep=', ') "
      ],
      "metadata": {
        "id": "FryM6EKpzJTH"
      },
      "execution_count": null,
      "outputs": []
    },
    {
      "cell_type": "markdown",
      "source": [
        "## List of Dicts"
      ],
      "metadata": {
        "id": "it9ZnRPK6UPT"
      }
    },
    {
      "cell_type": "code",
      "source": [
        "students_dict_list = [\n",
        "    {'Name': 'Hermione', 'House': 'Gryffindor', 'Patronus': 'Otter'},\n",
        "    {'Name': 'Harry', 'House': 'Gryffindor', 'Patronus': 'Stag'},\n",
        "    {'Name': 'Ron', 'House': 'Gryffindor', 'Patronus': 'Jack Russell terrier'},\n",
        "    {'Name': 'Draco', 'House': 'Slytherin', 'Patronus': None}\n",
        "    ]\n",
        "\n",
        "for s in students_dict_list:\n",
        "  print(s['Name'], s['House'], s['Patronus'], sep=', ')"
      ],
      "metadata": {
        "id": "t9gjbkoJ6bIq"
      },
      "execution_count": null,
      "outputs": []
    },
    {
      "cell_type": "markdown",
      "source": [
        "# Loops"
      ],
      "metadata": {
        "id": "NkDA3BDDizcY"
      }
    },
    {
      "cell_type": "markdown",
      "source": [
        "## While"
      ],
      "metadata": {
        "id": "4t-mLnLUf2Of"
      }
    },
    {
      "cell_type": "code",
      "source": [
        "i = 3\n",
        "while i != 0:\n",
        "  print('Boom')\n",
        "  i -= 1"
      ],
      "metadata": {
        "id": "BFUhK56bf3FH"
      },
      "execution_count": null,
      "outputs": []
    },
    {
      "cell_type": "code",
      "source": [
        "i = 0\n",
        "while i < 3:\n",
        "  print('Boom')\n",
        "  i += 1"
      ],
      "metadata": {
        "id": "2mrxmxVFhtwu"
      },
      "execution_count": null,
      "outputs": []
    },
    {
      "cell_type": "markdown",
      "source": [
        "### Breaking an Infinite Loop"
      ],
      "metadata": {
        "id": "FuK3_MGVnIqT"
      }
    },
    {
      "cell_type": "code",
      "source": [
        "while True:\n",
        "  n = int(input(\"What's n? \"))\n",
        "  if n > 0:\n",
        "    break # breaks out of the most recent while loop\n",
        "for _ in range(n):\n",
        "  print('Boom')    "
      ],
      "metadata": {
        "id": "ZJ2QMvgNl_Yl"
      },
      "execution_count": null,
      "outputs": []
    },
    {
      "cell_type": "markdown",
      "source": [
        "## For"
      ],
      "metadata": {
        "id": "XT7W_jCkf4th"
      }
    },
    {
      "cell_type": "code",
      "source": [
        "for _ in range(3): # '_' denotes a variable name that doesn't matter\n",
        "  print('Boom')"
      ],
      "metadata": {
        "id": "i9LNz-pUf5Ts"
      },
      "execution_count": null,
      "outputs": []
    },
    {
      "cell_type": "markdown",
      "source": [
        "### Multi-Dimensional For-Looping"
      ],
      "metadata": {
        "id": "yNrBz1nEARbR"
      }
    },
    {
      "cell_type": "code",
      "source": [
        "def print_square(size):\n",
        "  for i in range(size): # each row\n",
        "    for j in range(size): # each \"brick\" in row\n",
        "      print('#', end='')\n",
        "    print()\n",
        "\n",
        "print_square(5)"
      ],
      "metadata": {
        "id": "mif8JG8pAOxl"
      },
      "execution_count": null,
      "outputs": []
    },
    {
      "cell_type": "markdown",
      "source": [
        "or more succinctly"
      ],
      "metadata": {
        "id": "tzUJlcghC1Fe"
      }
    },
    {
      "cell_type": "code",
      "source": [
        "def print_square(size):\n",
        "  for i in range(size): # each row\n",
        "    print('#' * size)\n",
        "\n",
        "\n",
        "print_square(5)"
      ],
      "metadata": {
        "id": "PewG3tTmCjNp"
      },
      "execution_count": null,
      "outputs": []
    },
    {
      "cell_type": "markdown",
      "source": [
        "# Strings (str)"
      ],
      "metadata": {
        "id": "3nkYEOSxH0uR"
      }
    },
    {
      "cell_type": "markdown",
      "source": [
        "## String Multiplication"
      ],
      "metadata": {
        "id": "e-dnqWeBkqTc"
      }
    },
    {
      "cell_type": "code",
      "source": [
        "print('Boom\\n' * 3, end='')"
      ],
      "metadata": {
        "id": "YsY20xnmkxCu"
      },
      "execution_count": null,
      "outputs": []
    },
    {
      "cell_type": "markdown",
      "source": [
        "# Match Case"
      ],
      "metadata": {
        "id": "joqz7m51eWKX"
      }
    },
    {
      "cell_type": "code",
      "source": [
        "\n",
        "name = input('House?')\n",
        "match name:\n",
        "    case 'Harry' | 'Hermione' | 'Ron':\n",
        "        print('Gryffindor')\n",
        "    case 'Draco':\n",
        "        print('Slytherin')\n",
        "    case _: # '_' is a placeholder for every other input, aka, a wildcard variable\n",
        "        print('Who?')"
      ],
      "metadata": {
        "id": "4Ai2CvQ6eTQX"
      },
      "execution_count": null,
      "outputs": []
    },
    {
      "cell_type": "markdown",
      "source": [
        "# Structure"
      ],
      "metadata": {
        "id": "i-w7Bk0loiVR"
      }
    },
    {
      "cell_type": "code",
      "source": [
        "def main():\n",
        "  num = get_num()\n",
        "  boom(num)\n",
        "\n",
        "def get_num():\n",
        "  while True:\n",
        "    n = int(input('How many Booms? '))\n",
        "    if n > 0:\n",
        "      break\n",
        "  return n\n",
        "\n",
        "def boom(n):\n",
        "  for _ in range(n):\n",
        "    print('Boom')\n",
        "\n",
        "main()"
      ],
      "metadata": {
        "id": "IxaH5lxYomRG"
      },
      "execution_count": null,
      "outputs": []
    },
    {
      "cell_type": "markdown",
      "source": [
        "# Tools"
      ],
      "metadata": {
        "id": "y7WKfamLLCVL"
      }
    },
    {
      "cell_type": "markdown",
      "source": [
        "## Error Checking"
      ],
      "metadata": {
        "id": "PlhuPbBeLGUo"
      }
    },
    {
      "cell_type": "code",
      "source": [
        "# mypy checks for errors, including: type, "
      ],
      "metadata": {
        "id": "3CckwuP2LNGN"
      },
      "execution_count": null,
      "outputs": []
    },
    {
      "cell_type": "markdown",
      "source": [
        "# Types"
      ],
      "metadata": {
        "id": "oD7dESu3IIh_"
      }
    },
    {
      "cell_type": "markdown",
      "source": [
        "## Type Hints & Doc Formatting"
      ],
      "metadata": {
        "id": "jMiQnpmEILvy"
      }
    },
    {
      "cell_type": "code",
      "source": [
        "# Type hints tell Python what type of value to expect\n",
        "def yells(n=int)->str: # int tells expected input. str tells output\n",
        "  \"\"\"\n",
        "  Yell n times\n",
        "  :peram n: Number of times to yell\n",
        "  :type n: int\n",
        "  :raise TypeError: If n isn't an int\n",
        "  :return: A string of n yells, one per line\n",
        "  :rtype: str\n",
        "  \"\"\"\n",
        "  return 'Ahhhh\\n' * n\n",
        "\n",
        "amount:int=int(input('How many? ')) # tell input to keep value an int\n",
        "yell=yells(amount)\n",
        "print(yell)"
      ],
      "metadata": {
        "id": "niXq2QyNIPTw",
        "colab": {
          "base_uri": "https://localhost:8080/"
        },
        "outputId": "9c6b7c62-d387-4837-8b44-5bac1caa7b59"
      },
      "execution_count": 8,
      "outputs": [
        {
          "output_type": "stream",
          "name": "stdout",
          "text": [
            "How many? 3\n",
            "Ahhhh\n",
            "Ahhhh\n",
            "Ahhhh\n",
            "\n"
          ]
        }
      ]
    },
    {
      "cell_type": "markdown",
      "source": [
        "# Homework"
      ],
      "metadata": {
        "id": "lO5Iwo89EaDp"
      }
    },
    {
      "cell_type": "code",
      "source": [
        "def main():\n",
        "  case_convert()\n",
        "\n",
        "def case_convert():\n",
        "  var = input('Convert what to snake case? ')\n",
        "  for i in range(len(var)):\n",
        "    if i.isupper():\n",
        "      i.swapcase()\n",
        "  print(var.lower(), sep='_')\n",
        "main()"
      ],
      "metadata": {
        "colab": {
          "base_uri": "https://localhost:8080/"
        },
        "id": "wfwXY4_hEllB",
        "outputId": "ef177040-edb9-41f7-b9d0-10b278e1cf36"
      },
      "execution_count": null,
      "outputs": [
        {
          "output_type": "stream",
          "name": "stdout",
          "text": [
            "Convert what to snake case? bingBong\n",
            "bingbong\n"
          ]
        }
      ]
    },
    {
      "cell_type": "code",
      "source": [],
      "metadata": {
        "id": "jAkoLW8aHZWN"
      },
      "execution_count": null,
      "outputs": []
    }
  ]
}